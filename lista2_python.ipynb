{
 "cells": [
  {
   "cell_type": "markdown",
   "metadata": {
    "id": "7q8_6spWw5mT"
   },
   "source": [
    "# **Lista de Exercícios Avançados - Formatação de Strings em Python**\n",
    "\n",
    "---"
   ]
  },
  {
   "cell_type": "markdown",
   "metadata": {
    "id": "TjQQWlCrxEwz"
   },
   "source": [
    "## QUESTÃO 01 - Geração de Relatório Dinâmico\n",
    "---\n",
    "Crie um programa que solicita ao usuário o nome de 2 produtos, suas quantidades em estoque e seus preços unitários. Depois, exiba uma tabela formatada com alinhamento justificado, casas decimais nos preços e total de cada produto. Use f-strings e. format() para praticar os dois métodos."
   ]
  },
  {
   "cell_type": "code",
   "execution_count": 3,
   "metadata": {
    "colab": {
     "base_uri": "https://localhost:8080/"
    },
    "executionInfo": {
     "elapsed": 23951,
     "status": "ok",
     "timestamp": 1741389733537,
     "user": {
      "displayName": "Aline Oliveira",
      "userId": "01411146384750890045"
     },
     "user_tz": 180
    },
    "id": "dGpCq5oiu8RA",
    "outputId": "b0567d53-d9a0-46ce-8818-96e84fe0ce56"
   },
   "outputs": [
    {
     "name": "stdin",
     "output_type": "stream",
     "text": [
      "Digite o nome do 1º produto:  Caneta Azul\n",
      "Digite a quantidade do 1º produto em estoque:  2\n",
      "Digite o preço unitário do 1º produto:  25\n",
      "Digite o nome do 2º produto:  Estojo\n",
      "Digite a quantidade do 2º produto em estoque:  1\n",
      "Digite o preço unitário do 2º produto:  30\n"
     ]
    },
    {
     "name": "stdout",
     "output_type": "stream",
     "text": [
      "\n",
      "Produto         | Quantidade | Preço Unitário  | Total     \n",
      "-------------------------------------------------------\n",
      "Caneta Azul     | 2          | 25.00           | 50.00     \n",
      "Estojo          | 1          | 30.00           | 30.00     \n"
     ]
    }
   ],
   "source": [
    "# Coletando os dados do primeiro produto com f-string\n",
    "produto1_nome = input(f\"Digite o nome do 1º produto: \")\n",
    "quantidade1 = int(input(f\"Digite a quantidade do 1º produto em estoque: \"))\n",
    "preco1 = float(input(f\"Digite o preço unitário do 1º produto: \"))\n",
    "total1 = quantidade1 * preco1\n",
    "\n",
    "# Coletando os dados do segundo produto com f-string\n",
    "produto2_nome = input(f\"Digite o nome do 2º produto: \")\n",
    "quantidade2 = int(input(f\"Digite a quantidade do 2º produto em estoque: \"))\n",
    "preco2 = float(input(f\"Digite o preço unitário do 2º produto: \"))\n",
    "total2 = quantidade2 * preco2\n",
    "\n",
    "# Exibindo os dados com .format()\n",
    "print(\"\\n{:<15} | {:<10} | {:<15} | {:<10}\".format('Produto', 'Quantidade', 'Preço Unitário', 'Total'))\n",
    "print(\"-\" * 55)\n",
    "print(\"{:<15} | {:<10} | {:<15.2f} | {:<10.2f}\".format(produto1_nome, quantidade1, preco1, total1))\n",
    "print(\"{:<15} | {:<10} | {:<15.2f} | {:<10.2f}\".format(produto2_nome, quantidade2, preco2, total2))"
   ]
  },
  {
   "cell_type": "markdown",
   "metadata": {
    "id": "KautNr0N7b_9"
   },
   "source": [
    "## QUESTÃO 02 - Gerador de Fatura Personalizada\n",
    "---\n",
    "Solicite o nome completo de um cliente, o número do pedido e a data de emissão. Formate uma fatura em formato fixo como se fosse enviada por e-mail. O layout deve conter espaços definidos, alinhamento central e colunas formatadas. Use .format() com placeholders posicionais e nomeados."
   ]
  },
  {
   "cell_type": "code",
   "execution_count": null,
   "metadata": {
    "colab": {
     "base_uri": "https://localhost:8080/"
    },
    "executionInfo": {
     "elapsed": 24818,
     "status": "ok",
     "timestamp": 1741391598873,
     "user": {
      "displayName": "Aline Oliveira",
      "userId": "01411146384750890045"
     },
     "user_tz": 180
    },
    "id": "ZPuipQnZz6Xz",
    "outputId": "83380918-7f62-498e-de9a-5bb89f4cf829"
   },
   "outputs": [
    {
     "name": "stdout",
     "output_type": "stream",
     "text": [
      "Digite o nome completo: Fabio Madeira Rocha\n",
      "Digite o número do pedido: 456\n",
      "Digite a data emissão: 04/05/2026\n",
      "\n",
      "================================================================\n",
      "Malvader                                                  FATURA\n",
      "----------------------------------------------------------------\n",
      "----------------------------------------------------------------\n",
      "                              Número do Pedido: 456\n",
      "                              Data de Emissão: 04/05/2026\n",
      "----------------------------------------------------------------\n",
      "COBRANÇA PARA:\n",
      "Nome do Cliente: Fabio Madeira Rocha\n",
      "----------------------------------------------------------------\n",
      "Nome do Produto     Quantidade     Preço Unitário      Total\n",
      "Caderno             10             12.50               125.00\n",
      "Caneta Azul         50             2.75                137.50\n",
      "----------------------------------------------------------------\n",
      "                                                  Total: 262.50\n",
      "================================================================\n",
      "\n"
     ]
    }
   ],
   "source": [
    "# Solicita o nome do cliente\n",
    "nome_cliente = input(\"Digite o nome completo: \")\n",
    "\n",
    "# Solicita o número do pedido\n",
    "num_pedido = input(\"Digite o número do pedido: \")\n",
    "\n",
    "# Solicita a data de emissão da fatura\n",
    "data_emissao = input(\"Digite a data emissão: \")\n",
    "\n",
    "# Define a estrutura da fatura, utilizando placeholders para os dados do cliente, número do pedido e data\n",
    "fatura = \"\"\"\n",
    "================================================================\n",
    "Malvader                                                  FATURA\n",
    "----------------------------------------------------------------\n",
    "----------------------------------------------------------------\n",
    "                              Número do Pedido: {num_pedido}\n",
    "                              Data de Emissão: {data_emissao}\n",
    "----------------------------------------------------------------\n",
    "COBRANÇA PARA:\n",
    "Nome do Cliente: {nome_cliente}\n",
    "----------------------------------------------------------------\n",
    "Nome do Produto     Quantidade     Preço Unitário      Total\n",
    "Caderno             10             12.50               125.00\n",
    "Caneta Azul         50             2.75                137.50\n",
    "----------------------------------------------------------------\n",
    "                                                  Total: 262.50\n",
    "================================================================\n",
    "\"\"\".format(nome_cliente=nome_cliente, num_pedido=num_pedido, data_emissao=data_emissao)\n",
    "\n",
    "# Exibe a fatura gerada no terminal\n",
    "print(fatura)"
   ]
  },
  {
   "cell_type": "markdown",
   "metadata": {
    "id": "etSwnADwBJKf"
   },
   "source": [
    "## QUESTÃO 03 - Validador e Formatador de CPF\n",
    "---\n",
    "Peça ao usuário que digite um CPF apenas com números (11 dígitos) e exiba o CPF formatado corretamente no padrão ###.###.###-## utilizando f-strings."
   ]
  },
  {
   "cell_type": "code",
   "execution_count": null,
   "metadata": {
    "colab": {
     "base_uri": "https://localhost:8080/"
    },
    "executionInfo": {
     "elapsed": 7497,
     "status": "ok",
     "timestamp": 1741391927626,
     "user": {
      "displayName": "Aline Oliveira",
      "userId": "01411146384750890045"
     },
     "user_tz": 180
    },
    "id": "j9uwzyg6BeJo",
    "outputId": "5a9f5ff7-5cbd-4444-c454-5e4eb4396f23"
   },
   "outputs": [
    {
     "name": "stdout",
     "output_type": "stream",
     "text": [
      "Informe o seu cpf (apenas números): 12345678900\n",
      "123.456.789-00\n"
     ]
    }
   ],
   "source": [
    "# Solicita ao usuário que informe seu CPF, permitindo apenas números\n",
    "cpf_user = input(\"Informe o seu cpf (apenas números): \")\n",
    "\n",
    "# Verifica se o CPF informado tem menos de 11 caracteres\n",
    "# Caso tenha, a função zfill completa com zeros à esquerda até atingir 11 caracteres\n",
    "if len(cpf_user) < 11:\n",
    "    cpf_user = cpf_user.zfill(11)\n",
    "\n",
    "# Formata o CPF com pontos e hífen\n",
    "cpf_formatado = '{}.{}.{}-{}'.format(cpf_user[:3], cpf_user[3:6], cpf_user[6:9], cpf_user[9:])\n",
    "\n",
    "# Exibe o CPF formatado\n",
    "print(cpf_formatado)"
   ]
  },
  {
   "cell_type": "markdown",
   "metadata": {
    "id": "dNv0xftKDFbe"
   },
   "source": [
    "## QUESTÃO 04 - Simulador de Cupom Fiscal\n",
    "---\n",
    "Implemente uma função que recebe uma lista de produtos (nome, quantidade, preço unitário) e retorna uma string formatada em estilo de cupom fiscal de supermercado. Inclua nome da loja, data, e o valor total no final, com todos os valores alinhados e com R$ corretamente formatado."
   ]
  },
  {
   "cell_type": "code",
   "execution_count": null,
   "metadata": {
    "colab": {
     "base_uri": "https://localhost:8080/"
    },
    "executionInfo": {
     "elapsed": 29689,
     "status": "ok",
     "timestamp": 1741392824305,
     "user": {
      "displayName": "Aline Oliveira",
      "userId": "01411146384750890045"
     },
     "user_tz": 180
    },
    "id": "B_7mpFPoDb6H",
    "outputId": "0017ac67-d245-40f8-f494-e0566aaaccc4"
   },
   "outputs": [
    {
     "name": "stdout",
     "output_type": "stream",
     "text": [
      "Digite o nome do 1º produto: Caderno\n",
      "Digite a quantidade do 1º produto em estoque: 10\n",
      "Digite o preço unitário do 1º produto: 12.50\n",
      "Digite o nome do 2º produto: Caneta Azul\n",
      "Digite a quantidade do 2º produto em estoque: 50\n",
      "Digite o preço unitário do 2º produto: 2.27\n",
      "\n",
      "==============================================================\n",
      "Supermercado Malvader\n",
      "Data: 08/03/2025 00:13\n",
      "--------------------------------------------------------------\n",
      "Item             Qtd            Preço\n",
      "Caderno         10              R$   12.50\n",
      "Caneta Azul     50              R$    2.27\n",
      "--------------------------------------------------------------\n",
      "                                Total: R$ 238.50\n",
      "==============================================================\n"
     ]
    }
   ],
   "source": [
    "from datetime import datetime\n",
    "\n",
    "produtos = []  # Lista que vai armazenar os produtos e suas informações\n",
    "\n",
    "# Solicitando dados dos produtos\n",
    "for i in range(1, 3):  # O loop vai rodar 2 vezes, pois é para inserir 2 produtos\n",
    "    produto_nome = input(f\"Digite o nome do {i}º produto: \")  # Solicita o nome do produto\n",
    "    quantidade = int(input(f\"Digite a quantidade do {i}º produto em estoque: \"))  # Solicita a quantidade\n",
    "    preco = float(input(f\"Digite o preço unitário do {i}º produto: \"))  # Solicita o preço unitário\n",
    "    produtos.append([produto_nome, quantidade, preco])  # Armazena as informações do produto na lista\n",
    "\n",
    "totais = []  # Lista para armazenar o total de cada produto (quantidade * preço)\n",
    "\n",
    "# Calculando o total de cada produto\n",
    "for produto in produtos:\n",
    "    total = produto[1] * produto[2]  # Total do produto = quantidade * preço unitário\n",
    "    totais.append(total)  # Adiciona o total do produto à lista totais\n",
    "\n",
    "data_emissao = datetime.now()  # Obtém a data e hora atual para a emissão do cupom fiscal\n",
    "\n",
    "# Inicializando o cupom fiscal com placeholders para data e hora\n",
    "cupom_fiscal = \"\"\"\n",
    "==============================================================\n",
    "Supermercado Malvader\n",
    "Data: {data_emissao:%d/%m/%Y} {data_emissao:%H:%M}\n",
    "--------------------------------------------------------------\n",
    "Item             Qtd            Preço\n",
    "\"\"\"\n",
    "\n",
    "# Adicionando os produtos ao cupom\n",
    "for i, produto in enumerate(produtos):  # Loop que percorre a lista de produtos\n",
    "    cupom_fiscal += f\"{produto[0]:<15} {produto[1]:<15} R$ {produto[2]:>7.2f}\\n\"  # Adiciona linha para cada produto\n",
    "\n",
    "# Calculando o total geral\n",
    "total_geral = sum(totais)  # Soma os totais de cada produto\n",
    "\n",
    "# Finalizando o cupom fiscal\n",
    "cupom_fiscal += f\"--------------------------------------------------------------\\n\"\n",
    "cupom_fiscal += f\"                                Total: R$ {total_geral:.2f}\\n\"  # Exibe o total geral\n",
    "cupom_fiscal += \"==============================================================\"\n",
    "\n",
    "# Exibindo o cupom fiscal\n",
    "print(cupom_fiscal.format(data_emissao=data_emissao))  # Imprime o cupom fiscal com a data e hora formatadas"
   ]
  },
  {
   "cell_type": "markdown",
   "metadata": {
    "id": "WF0Lb21SGzjQ"
   },
   "source": [
    "## QUESTÃO 05 - Formatação Condicional de Resultados Acadêmicos\n",
    "---\n",
    "Dado um dicionário com nomes de alunos e suas notas, gere um boletim formatado onde:\n",
    "- Notas acima de 7 aparecem em verde (use ANSI escape codes).\n",
    "- Notas entre 5 e 7 aparecem em amarelo.\n",
    "- Notas abaixo de 5 aparecem em vermelho.\n",
    "Exemplo:\n",
    "```\n",
    "Boletim:\n",
    "Ana       :  9.5 (Aprovado)\n",
    "João      :  4.0 (Reprovado)\n",
    "Maria     :  6.5 (Recuperação)\n",
    "```"
   ]
  },
  {
   "cell_type": "code",
   "execution_count": null,
   "metadata": {
    "id": "ELTAgqTTHJuK"
   },
   "outputs": [],
   "source": [
    "# Função para formatar o boletim\n",
    "def format_boletim(alunos_notas):\n",
    "    # Definindo os códigos ANSI para as cores\n",
    "    verde = \"\\033[32m\"  # Cor verde para notas acima de 7 (Aprovado)\n",
    "    amarelo = \"\\033[33m\"  # Cor amarela para notas entre 5 e 7 (Recuperação)\n",
    "    vermelho = \"\\033[31m\"  # Cor vermelha para notas abaixo de 5 (Reprovado)\n",
    "    reset = \"\\033[0m\"  # Para resetar a cor de volta ao padrão do terminal\n",
    "\n",
    "    boletim = \"Boletim:\\n\"  # Inicia o boletim\n",
    "\n",
    "    # Itera sobre o dicionário de alunos e suas notas\n",
    "    for nome, nota in alunos_notas.items():\n",
    "        # Verifica o status de aprovação baseado na nota\n",
    "        if nota >= 7:\n",
    "            cor = verde\n",
    "            status = \"Aprovado\"\n",
    "        elif nota >= 5:\n",
    "            cor = amarelo\n",
    "            status = \"Recuperação\"\n",
    "        else:\n",
    "            cor = vermelho\n",
    "            status = \"Reprovado\"\n",
    "\n",
    "        # Adiciona a linha de cada aluno ao boletim, com a cor correspondente à nota\n",
    "        boletim += f\"{nome:<10}: {cor}{nota:.1f}{reset} ({status})\\n\"\n",
    "\n",
    "    return boletim\n",
    "\n",
    "# Exemplo de uso\n",
    "alunos_notas = {\n",
    "    \"Ana\": 9.5,\n",
    "    \"João\": 4.0,\n",
    "    \"Maria\": 6.5\n",
    "}\n",
    "\n",
    "# Gerando o boletim formatado\n",
    "print(format_boletim(alunos_notas))"
   ]
  },
  {
   "cell_type": "markdown",
   "metadata": {
    "id": "S8Z0sFdyHVS6"
   },
   "source": [
    "## QUESTÃO 06 - Registro de Logs com Nível de Criticidade\n",
    "---\n",
    "Crie uma função de log que receba uma mensagem, o nível de criticidade (INFO, WARNING, ERROR) e a hora atual. A função deve gerar uma string formatada com cor e estilo de acordo com o nível (INFO = azul, WARNING = amarelo, ERROR = vermelho). Use f-strings e datetime e # Cores ANSI para o terminal.\n",
    "```\n",
    "[2025-03-05 16:33:29] [INFO] Sistema iniciado\n",
    "[2025-03-05 16:33:29] [WARNING] Atenção: baixo estoque\n",
    "[2025-03-05 16:33:29] [ERROR] Falha na conexão\n",
    "```\n"
   ]
  },
  {
   "cell_type": "code",
   "execution_count": null,
   "metadata": {
    "id": "33eqsodVH0-V"
   },
   "outputs": [],
   "source": [
    "import datetime\n",
    "\n",
    "# Função para registrar logs com cor e nível de criticidade\n",
    "def log(mensagem, nivel_criticidade):\n",
    "    # Definindo os códigos ANSI para as cores\n",
    "    azul = \"\\033[34m\"  # Cor azul para INFO\n",
    "    amarelo = \"\\033[33m\"  # Cor amarela para WARNING\n",
    "    vermelho = \"\\033[31m\"  # Cor vermelha para ERROR\n",
    "    reset = \"\\033[0m\"  # Para resetar a cor\n",
    "\n",
    "    # Obtendo a hora atual no formato desejado\n",
    "    hora_atual = datetime.datetime.now().strftime('%Y-%m-%d %H:%M:%S')\n",
    "\n",
    "    # Determinando a cor e o prefixo com base no nível de criticidade\n",
    "    if nivel_criticidade == \"INFO\":\n",
    "        cor = azul\n",
    "        prefixo = \"[INFO]\"\n",
    "    elif nivel_criticidade == \"WARNING\":\n",
    "        cor = amarelo\n",
    "        prefixo = \"[WARNING]\"\n",
    "    elif nivel_criticidade == \"ERROR\":\n",
    "        cor = vermelho\n",
    "        prefixo = \"[ERROR]\"\n",
    "    else:\n",
    "        cor = reset\n",
    "        prefixo = \"[UNKNOWN]\"\n",
    "\n",
    "    # Criando a string formatada\n",
    "    log_formatado = f\"{hora_atual} {cor}{prefixo}{reset} {mensagem}\"\n",
    "\n",
    "    return log_formatado\n",
    "\n",
    "# Exemplo de uso da função\n",
    "print(log(\"Sistema iniciado\", \"INFO\"))\n",
    "print(log(\"Atenção: baixo estoque\", \"WARNING\"))\n",
    "print(log(\"Falha na conexão\", \"ERROR\"))"
   ]
  },
  {
   "cell_type": "markdown",
   "metadata": {
    "id": "CdgKlnShH1XF"
   },
   "source": [
    "## QUESTÃO 07 - Formatação de Código SQL Dinâmico\n",
    "---\n",
    "Peça ao usuário o nome de uma tabela, uma lista de colunas e seus tipos de dados, e gere dinamicamente uma string de comando SQL de criação da tabela (CREATE TABLE), formatada com identação correta e alinhamento dos tipos de dados.\n",
    "```\n",
    "CREATE TABLE clientes (\n",
    "    id INT PRIMARY KEY,\n",
    "    nome VARCHAR(100),\n",
    "    nascimento DATE,\n",
    "    saldo DECIMAL(10,2)\n",
    ");\n",
    "```"
   ]
  },
  {
   "cell_type": "code",
   "execution_count": null,
   "metadata": {
    "id": "Zht0V-hBIHoV"
   },
   "outputs": [],
   "source": [
    "def criar_comando_sql():\n",
    "    # Solicita o nome da tabela\n",
    "    nome_tabela = input(\"Digite o nome da tabela: \")\n",
    "\n",
    "    # Solicita as colunas e seus tipos\n",
    "    colunas = []\n",
    "    while True:\n",
    "        coluna = input(\"Digite o nome da coluna (ou 'sair' para terminar): \")\n",
    "        if coluna.lower() == 'sair':\n",
    "            break\n",
    "        tipo = input(f\"Digite o tipo de dado para a coluna {coluna}: \")\n",
    "        colunas.append((coluna, tipo))\n",
    "\n",
    "    # Gerar a string do comando SQL com formatação\n",
    "    comando_sql = f\"CREATE TABLE {nome_tabela} (\\n\"\n",
    "\n",
    "    # Adiciona as colunas com indentação e alinhamento\n",
    "    for i, (coluna, tipo) in enumerate(colunas):\n",
    "        if i < len(colunas) - 1:\n",
    "            comando_sql += f\"    {coluna} {tipo},\\n\"\n",
    "        else:\n",
    "            comando_sql += f\"    {coluna} {tipo}\\n\"\n",
    "\n",
    "    comando_sql += \");\"\n",
    "\n",
    "    return comando_sql\n",
    "\n",
    "\n",
    "# Exemplo de uso\n",
    "comando = criar_comando_sql()\n",
    "print(\"\\nComando SQL gerado:\")\n",
    "print(comando)"
   ]
  }
 ],
 "metadata": {
  "colab": {
   "authorship_tag": "ABX9TyNzXBw0GBdD+xWUaWAJ+UEX",
   "provenance": []
  },
  "kernelspec": {
   "display_name": "Python 3 (ipykernel)",
   "language": "python",
   "name": "python3"
  },
  "language_info": {
   "codemirror_mode": {
    "name": "ipython",
    "version": 3
   },
   "file_extension": ".py",
   "mimetype": "text/x-python",
   "name": "python",
   "nbconvert_exporter": "python",
   "pygments_lexer": "ipython3",
   "version": "3.13.1"
  }
 },
 "nbformat": 4,
 "nbformat_minor": 4
}
