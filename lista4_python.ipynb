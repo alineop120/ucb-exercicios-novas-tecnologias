{
  "nbformat": 4,
  "nbformat_minor": 0,
  "metadata": {
    "colab": {
      "provenance": [],
      "collapsed_sections": [
        "X-KlVzETghXG",
        "zfjLIm8wguZn",
        "wCHuWhMfhA4i",
        "m1zEcPBMhPfT",
        "7J-Ftepihi1f",
        "ktL4KDpWhyh5",
        "2N8NQC9eiGlK"
      ]
    },
    "kernelspec": {
      "name": "python3",
      "display_name": "Python 3"
    },
    "language_info": {
      "name": "python"
    }
  },
  "cells": [
    {
      "cell_type": "markdown",
      "source": [
        "# **Quarta Lista de Exercícios (Tuplas, Set, Booleans e Arquivos)**"
      ],
      "metadata": {
        "id": "3dhySLX8gbnn"
      }
    },
    {
      "cell_type": "markdown",
      "source": [
        "---\n",
        "## **Exercícios sobre Tuplas**"
      ],
      "metadata": {
        "id": "X-KlVzETghXG"
      }
    },
    {
      "cell_type": "markdown",
      "source": [
        "### **QUESTÃO 01 --** Criação e Acesso a Tuplas\n",
        "- Crie uma tupla chamada frutas contendo 5 nomes de frutas.\n",
        "- Exiba o terceiro elemento da tupla.\n",
        "- Tente modificar o segundo elemento e comente em seu código o que ocorreu e por quê."
      ],
      "metadata": {
        "id": "zfjLIm8wguZn"
      }
    },
    {
      "cell_type": "code",
      "source": [
        "# Criar uma tupla\n",
        "frutas = (\"maçã\", \"banana\", \"laranja\", \"uva\", \"abacaxi\")\n",
        "print(frutas[3])"
      ],
      "metadata": {
        "id": "DjLjpd8DhOL0",
        "colab": {
          "base_uri": "https://localhost:8080/"
        },
        "outputId": "8d0c2cf0-fdb9-4af7-9f46-41bd66c22964"
      },
      "execution_count": 1,
      "outputs": [
        {
          "output_type": "stream",
          "name": "stdout",
          "text": [
            "uva\n"
          ]
        }
      ]
    },
    {
      "cell_type": "code",
      "source": [
        "# Modificar o segundo elemento, mas aparecerá um erro\n",
        "frutas[2] = \"melancia\""
      ],
      "metadata": {
        "id": "mTNYVtH6vMBb",
        "colab": {
          "base_uri": "https://localhost:8080/",
          "height": 159
        },
        "outputId": "9c4e9df1-e8fe-412e-ef26-7d26b8348a29"
      },
      "execution_count": 2,
      "outputs": [
        {
          "output_type": "error",
          "ename": "TypeError",
          "evalue": "'tuple' object does not support item assignment",
          "traceback": [
            "\u001b[0;31m---------------------------------------------------------------------------\u001b[0m",
            "\u001b[0;31mTypeError\u001b[0m                                 Traceback (most recent call last)",
            "\u001b[0;32m<ipython-input-2-04bcf4926b29>\u001b[0m in \u001b[0;36m<cell line: 0>\u001b[0;34m()\u001b[0m\n\u001b[1;32m      1\u001b[0m \u001b[0;31m# Modificar o segundo elemento, mas aparecerá um erro\u001b[0m\u001b[0;34m\u001b[0m\u001b[0;34m\u001b[0m\u001b[0m\n\u001b[0;32m----> 2\u001b[0;31m \u001b[0mfrutas\u001b[0m\u001b[0;34m[\u001b[0m\u001b[0;36m2\u001b[0m\u001b[0;34m]\u001b[0m \u001b[0;34m=\u001b[0m \u001b[0;34m\"melancia\"\u001b[0m\u001b[0;34m\u001b[0m\u001b[0;34m\u001b[0m\u001b[0m\n\u001b[0m",
            "\u001b[0;31mTypeError\u001b[0m: 'tuple' object does not support item assignment"
          ]
        }
      ]
    },
    {
      "cell_type": "markdown",
      "source": [
        "**Explicação:** Mensagem de erro, o objeto 'tuple' não suporta atribuição de itens, pois tuplas são imutáveis, ou seja, seus elementos não podem ser alterados após a criação. O código tenta modificar o elemento no índice 2 da tupla frutas, o que não é permitido."
      ],
      "metadata": {
        "id": "aS7vBKD7vihU"
      }
    },
    {
      "cell_type": "code",
      "source": [
        "# A solução para a tupla imultavél\n",
        "frutas = list(frutas)\n",
        "frutas[2] = \"melancia\"\n",
        "frutas = tuple(frutas)\n",
        "print(frutas)"
      ],
      "metadata": {
        "colab": {
          "base_uri": "https://localhost:8080/"
        },
        "id": "cg0_DYFfwnaM",
        "outputId": "cdecc397-97d6-45e7-8f15-588f6e4f57fb"
      },
      "execution_count": null,
      "outputs": [
        {
          "output_type": "stream",
          "name": "stdout",
          "text": [
            "('maçã', 'banana', 'melancia', 'uva', 'abacaxi')\n"
          ]
        }
      ]
    },
    {
      "cell_type": "markdown",
      "source": [
        "### **QUESTÃO 02 --** Fatiamento (Slicing) de Tuplas\n",
        "- Crie uma tupla chamada numeros com os números de 1 a 10.\n",
        "- Utilize slicing para extrair e exibir os elementos da posição 4 à 8 (lembre-se que o fatiamento não inclui o índice final)."
      ],
      "metadata": {
        "id": "wCHuWhMfhA4i"
      }
    },
    {
      "cell_type": "code",
      "source": [
        "# Criação de uma tupla\n",
        "num = (1, 2, 3, 4, 5, 6, 7, 8, 9, 10)\n",
        "# Utilizando slicing para extrair e exibir\n",
        "print(num[4:9])"
      ],
      "metadata": {
        "id": "F-4f-mK9hNdr",
        "colab": {
          "base_uri": "https://localhost:8080/"
        },
        "outputId": "f1c509db-a934-4a7a-ff7b-da436b3f2c9e"
      },
      "execution_count": null,
      "outputs": [
        {
          "output_type": "stream",
          "name": "stdout",
          "text": [
            "(5, 6, 7, 8)\n"
          ]
        }
      ]
    },
    {
      "cell_type": "markdown",
      "source": [
        "### **QUESTÃO 03 --** Concatenação e Repetição\n",
        "-\tCrie duas tuplas: t1 = (1, 2, 3) e t2 = (4, 5).\n",
        "-\tConcatene as tuplas e armazene o resultado em uma nova tupla chamada t3.\n",
        "-\tExiba t3 repetida 3 vezes (use o operador *)."
      ],
      "metadata": {
        "id": "m1zEcPBMhPfT"
      }
    },
    {
      "cell_type": "code",
      "source": [
        "# Criar duas tuplas\n",
        "t1 = (1,2,3)\n",
        "t2 = (4,5)\n",
        "\n",
        "# Concatenar as duas tuplas e armazenar na nova tupla\n",
        "t3 = t1 + t2\n",
        "print(t3)"
      ],
      "metadata": {
        "id": "UbUOeMAxhaB-",
        "colab": {
          "base_uri": "https://localhost:8080/"
        },
        "outputId": "64ea913f-3d12-4c7c-f8c5-97673b1f1040"
      },
      "execution_count": null,
      "outputs": [
        {
          "output_type": "stream",
          "name": "stdout",
          "text": [
            "(1, 2, 3, 4, 5)\n"
          ]
        }
      ]
    },
    {
      "cell_type": "code",
      "source": [
        "# Exibir t3 repetida 3 vezes\n",
        "print(t3 * 3)"
      ],
      "metadata": {
        "colab": {
          "base_uri": "https://localhost:8080/"
        },
        "id": "Q7fG7Zpu4ypN",
        "outputId": "dde54b96-49d4-4c39-db84-c0c73a6196c7"
      },
      "execution_count": null,
      "outputs": [
        {
          "output_type": "stream",
          "name": "stdout",
          "text": [
            "(1, 2, 3, 4, 5, 1, 2, 3, 4, 5, 1, 2, 3, 4, 5)\n"
          ]
        }
      ]
    },
    {
      "cell_type": "markdown",
      "source": [
        "---\n",
        "## **Exercícios sobre Conjuntos e Booleanos**"
      ],
      "metadata": {
        "id": "7J-Ftepihi1f"
      }
    },
    {
      "cell_type": "markdown",
      "source": [
        "### **QUESTÃO 01 --**\tOperações com Conjuntos\n",
        "-\tCrie dois conjuntos:\n",
        "-\tA = {1, 2, 3, 4}\n",
        "-\tB = {3, 4, 5, 6}\n",
        "-\tCalcule e exiba:\n",
        "-\tA união de A e B.\n",
        "-\tA interseção de A e B.\n",
        "-\tA diferença entre A e B (A - B) e entre B e A (B - A).\n",
        "-\tA diferença simétrica entre A e B."
      ],
      "metadata": {
        "id": "ktL4KDpWhyh5"
      }
    },
    {
      "cell_type": "code",
      "source": [
        "# Criar dois conjuntos\n",
        "A = {1, 2, 3, 4}\n",
        "B = {3, 4, 5, 6}\n",
        "\n",
        "# Calcular a união de A e B\n",
        "print(A.union(B))\n",
        "\n",
        "# Calcular a interseção de A e B\n",
        "print(A.intersection(B))\n",
        "\n",
        "# Calcular a diferença entre A e B\n",
        "print(A.difference(B))\n",
        "print(B.difference(A))\n",
        "\n",
        "# Calcular a diferença simétrica entre A e B\n",
        "print(A.symmetric_difference(B))"
      ],
      "metadata": {
        "id": "1Abf2jediChD",
        "colab": {
          "base_uri": "https://localhost:8080/"
        },
        "outputId": "24123cba-4c05-46f0-f525-707b229b43fc"
      },
      "execution_count": null,
      "outputs": [
        {
          "output_type": "stream",
          "name": "stdout",
          "text": [
            "{1, 2, 3, 4, 5, 6}\n",
            "{3, 4}\n",
            "{1, 2}\n",
            "{5, 6}\n",
            "{1, 2, 5, 6}\n"
          ]
        }
      ]
    },
    {
      "cell_type": "markdown",
      "source": [
        "### **QUESTÃO 02 --** Verificação de Subconjuntos\n",
        "-\tUtilizando os conjuntos A e B criados anteriormente, verifique e exiba se:\n",
        "-\tA é subconjunto de B.\n",
        "-\tB é subconjunto de A.\n",
        "-\tOs conjuntos são disjuntos (ou seja, não possuem elementos em comum).\n",
        "\n"
      ],
      "metadata": {
        "id": "2a5b_tGIhb--"
      }
    },
    {
      "cell_type": "code",
      "source": [
        "# Verificar se A é subconjunto de B\n",
        "print(A.issubset(B))\n",
        "\n",
        "# Verificar se B é subconjunto de A\n",
        "print(B.issubset(A))\n",
        "\n",
        "# Verificar se os conjuntos são disjuntos\n",
        "print(A.isdisjoint(B))"
      ],
      "metadata": {
        "id": "q3j1WfB2iTPb",
        "colab": {
          "base_uri": "https://localhost:8080/"
        },
        "outputId": "ae041954-0eb5-457a-979a-ea2d94661a64"
      },
      "execution_count": null,
      "outputs": [
        {
          "output_type": "stream",
          "name": "stdout",
          "text": [
            "False\n",
            "False\n",
            "False\n"
          ]
        }
      ]
    },
    {
      "cell_type": "markdown",
      "source": [
        "### **QUESTÃO 03 --** Expressões Booleanas\n",
        "-\tCrie e avalie as seguintes expressões booleanas, imprimindo seus resultados:\n",
        "-\tTrue and False\n",
        "-\tnot (False or True)\n",
        "-\t(3 > 2) and (5 == 5)\n",
        "-\tComente o que cada expressão significa e por que o resultado foi aquele obtido."
      ],
      "metadata": {
        "id": "xUV--4QGiDZT"
      }
    },
    {
      "cell_type": "code",
      "source": [
        "a = True and False\n",
        "a"
      ],
      "metadata": {
        "id": "EcHpqJnziesz",
        "colab": {
          "base_uri": "https://localhost:8080/"
        },
        "outputId": "649daa01-bd3f-4cd2-85e5-87221e21a039"
      },
      "execution_count": null,
      "outputs": [
        {
          "output_type": "execute_result",
          "data": {
            "text/plain": [
              "False"
            ]
          },
          "metadata": {},
          "execution_count": 49
        }
      ]
    },
    {
      "cell_type": "markdown",
      "source": [
        "**Explicação da primeira expressão -- True and False:** Nessa expressão foi \"False\", pois uma das proposição é \"True\" e só será verdadeira se todas as proposiçôes forem verdadeiras.\n"
      ],
      "metadata": {
        "id": "HpTkOsYBCzXB"
      }
    },
    {
      "cell_type": "code",
      "source": [
        "b = not (False or True)\n",
        "print(b)"
      ],
      "metadata": {
        "colab": {
          "base_uri": "https://localhost:8080/"
        },
        "id": "vROxmvaPC9Ea",
        "outputId": "71b3a501-cbf1-49df-a646-69c61067430b"
      },
      "execution_count": null,
      "outputs": [
        {
          "output_type": "stream",
          "name": "stdout",
          "text": [
            "False\n"
          ]
        }
      ]
    },
    {
      "cell_type": "markdown",
      "source": [
        "**Explicação da segunda expressão -- not (False or True):** Com base na tabela verdade, será verdadeira quando, pelo menos, uma das condições fossem verdadeira, mas nessa expressão temos um \"not\", que significa que será falso se a proposição for verdadeira e vice-versa.\n"
      ],
      "metadata": {
        "id": "AlqXRHQ4DBYK"
      }
    },
    {
      "cell_type": "code",
      "source": [
        "c = (3 > 2) and (5 == 5)\n",
        "print(c)"
      ],
      "metadata": {
        "colab": {
          "base_uri": "https://localhost:8080/"
        },
        "id": "kmc97ekrC_gq",
        "outputId": "a5b337d6-5a2b-4c18-8a7c-a28e57e77c28"
      },
      "execution_count": null,
      "outputs": [
        {
          "output_type": "stream",
          "name": "stdout",
          "text": [
            "True\n"
          ]
        }
      ]
    },
    {
      "cell_type": "markdown",
      "source": [
        "**Explicação da terceira expressão -- (3 > 2) and (5 == 5):** São duas condições, com base na tabela verdade, será verdadeira somente se todas as condições forem verdadeiras. Nessa expressão todas são verdadeiras e o resultado foi \"True\"; caso uma das duas condições for falso, o resultado seria \"False\"."
      ],
      "metadata": {
        "id": "8hvRSzSBDSer"
      }
    },
    {
      "cell_type": "markdown",
      "source": [
        "### **QUESTÃO 04 --** Conversão de Lista para Conjunto\n",
        "-\tCrie uma lista com elementos repetidos, por exemplo, lista = [1, 2, 2, 3, 4, 4, 5].\n",
        "-\tConverta essa lista para um conjunto e exiba o conjunto resultante, observando como os elementos duplicados são removidos.\n"
      ],
      "metadata": {
        "id": "2N8NQC9eiGlK"
      }
    },
    {
      "cell_type": "code",
      "source": [
        "# Criar uma lista repetidas\n",
        "lista_repetidos = [1, 2, 2, 3, 4, 4, 5]\n",
        "\n",
        "# Converter esse conjunto para que os elementos duplicados são removidos\n",
        "conjunto = set(lista_repetidos)\n",
        "print(conjunto)"
      ],
      "metadata": {
        "id": "9WL1Ik6pili7",
        "colab": {
          "base_uri": "https://localhost:8080/"
        },
        "outputId": "f082fd10-b808-4bae-9b26-862485d6aba7"
      },
      "execution_count": null,
      "outputs": [
        {
          "output_type": "stream",
          "name": "stdout",
          "text": [
            "{1, 2, 3, 4, 5}\n"
          ]
        }
      ]
    },
    {
      "cell_type": "markdown",
      "source": [
        "---\n",
        "## **Exercícios sobre Arquivos**\n"
      ],
      "metadata": {
        "id": "7cilKk6RidTD"
      }
    },
    {
      "cell_type": "markdown",
      "source": [
        "### **QUESTÃO 01 --** Escrita de Arquivos\n",
        "- Crie (ou sobrescreva) um arquivo chamado exemplo.txt usando o comando magic %%writefile ou com o método open() em modo de escrita.\n",
        "-\tEscreva pelo menos 5 linhas de texto no arquivo, certificando-se de incluir o caractere de nova linha (\\n) ao final de cada linha."
      ],
      "metadata": {
        "id": "6SuaxMlAjGtq"
      }
    },
    {
      "cell_type": "code",
      "source": [
        "# Usando o comando %%writefile\n",
        "%%writefile exemplo.txt\n",
        "Aqui é um exemplo do arquivo exemplo.txt\n",
        "Essa é a primeira linha\n",
        "Essa é a segunda linha\n",
        "Essa é a terceira linha\n",
        "Essa é a quarta linha\n",
        "Essa é a quinta linha"
      ],
      "metadata": {
        "colab": {
          "base_uri": "https://localhost:8080/"
        },
        "id": "qAcxWAFNZ0xh",
        "outputId": "9c86829e-73b9-4cd4-c629-252f0a4f8c06"
      },
      "execution_count": 11,
      "outputs": [
        {
          "output_type": "stream",
          "name": "stdout",
          "text": [
            "Overwriting exemplo.txt\n"
          ]
        }
      ]
    },
    {
      "cell_type": "markdown",
      "source": [
        "### **QUESTÃO 02 --** Leitura de Arquivos\n",
        "-\tAbra o arquivo exemplo.txt e leia todas as linhas com o método readlines().\n",
        "-\tImprima cada linha removendo o caractere de nova linha (use fatiamento ou o método strip())."
      ],
      "metadata": {
        "id": "FdJrrGvMjJx6"
      }
    },
    {
      "cell_type": "code",
      "source": [
        "# Abrindo e lendo as linhas do arquivo\n",
        "with open('exemplo.txt', 'r') as myfile:\n",
        "    linhas = myfile.readlines()\n",
        "\n",
        "# Imprimindo cada linha removendo o caractere de nova linha\n",
        "for linha in linhas:\n",
        "    print(linha.strip())  # Usando .strip() para remover o '\\n' ao final"
      ],
      "metadata": {
        "id": "HKbQMEOXZbsR"
      },
      "execution_count": null,
      "outputs": []
    },
    {
      "cell_type": "markdown",
      "source": [
        "### **QUESTÃO 03 --** Atualização Condicional do Arquivo\n",
        "-\tEscreva um script que verifique se exemplo.txt possui pelo menos 5 linhas.\n",
        "-\tSe não tiver, adicione novas linhas ao final do arquivo para que o total seja 5 (use o modo \"append\")."
      ],
      "metadata": {
        "id": "1KuxdIX9jK5L"
      }
    },
    {
      "cell_type": "code",
      "source": [
        "# Verificando se o arquivo tem pelo menos 5 linhas\n",
        "with open('exemplo.txt', 'r') as myfile:\n",
        "    linhas = myfile.readlines()\n",
        "\n",
        "# Verificando se o arquivo tem menos de 5 linhas\n",
        "if len(linhas) < 5:\n",
        "    with open('exemplo.txt', 'a') as myfile:  # Abrindo em modo append\n",
        "        for i in range(5 - len(linhas)):  # Adicionando as linhas que faltam\n",
        "            myfile.write(f\"Essa é a linha {len(linhas) + i + 1}\\n\")"
      ],
      "metadata": {
        "id": "f9LjDlKSY5IB"
      },
      "execution_count": null,
      "outputs": []
    },
    {
      "cell_type": "markdown",
      "source": [
        "### **QUESTÃO 04 --** Retorno do Método write()\n",
        "-\tUtilize o método write() para adicionar uma nova linha ao arquivo e capture o valor retornado.\n",
        "-\tEm um comentário, explique o que esse valor representa (dica: quantidade de caracteres escritos)."
      ],
      "metadata": {
        "id": "YMwt8BHojODz"
      }
    },
    {
      "cell_type": "code",
      "source": [
        "# Adicionando uma nova linha ao arquivo\n",
        "with open('exemplo.txt', 'a') as myfile:\n",
        "    num_caracteres = myfile.write(\"Essa é uma nova linha adicionada.\\n\")\n",
        "\n",
        "# Exibindo o número de caracteres escritos\n",
        "print(f'Número de caracteres escritos: {num_caracteres}')"
      ],
      "metadata": {
        "id": "GTOp7lDbjXAb",
        "colab": {
          "base_uri": "https://localhost:8080/"
        },
        "outputId": "445a09e1-3862-4ef7-de9e-8018214ec218"
      },
      "execution_count": 6,
      "outputs": [
        {
          "output_type": "stream",
          "name": "stdout",
          "text": [
            "Número de caracteres escritos: 34\n"
          ]
        }
      ]
    },
    {
      "cell_type": "markdown",
      "source": [
        "### **QUESTÃO 05 --** Uso da Estrutura with\n",
        "-\tRefaça os exercícios de escrita e leitura utilizando a instrução with open(...) as arquivo: para garantir que o arquivo seja fechado automaticamente após o uso."
      ],
      "metadata": {
        "id": "uFgRSlcTjSPr"
      }
    },
    {
      "cell_type": "code",
      "source": [
        "# Questão 01 com with open(...) (Escrita):\n",
        "# Usando a estrutura with open() para garantir que o arquivo seja fechado automaticamente\n",
        "with open('exemplo.txt', 'w') as file:\n",
        "    file.write(\"Aqui é um exemplo do arquivo exemplo.txt\\n\")\n",
        "    file.write(\"Essa é a primeira linha\\n\")\n",
        "    file.write(\"Essa é a segunda linha\\n\")\n",
        "    file.write(\"Essa é a terceira linha\\n\")\n",
        "    file.write(\"Essa é a quinta linha\\n\")"
      ],
      "metadata": {
        "id": "oexOM-vIjV5q"
      },
      "execution_count": 8,
      "outputs": []
    },
    {
      "cell_type": "code",
      "source": [
        "# Questão 02 com with open(...) (Leitura):\n",
        "# Usando a estrutura with open() para leitura\n",
        "with open('exemplo.txt', 'r') as myfile:\n",
        "    linhas = myfile.readlines()\n",
        "\n",
        "# Imprimindo cada linha removendo o caractere de nova linha\n",
        "for linha in linhas:\n",
        "    print(linha.strip())  # Usando .strip() para remover o '\\n' ao final"
      ],
      "metadata": {
        "id": "jyoCmDTdjWLC",
        "colab": {
          "base_uri": "https://localhost:8080/"
        },
        "outputId": "63d52c1a-0389-4b76-dc46-0337f3f946c1"
      },
      "execution_count": 9,
      "outputs": [
        {
          "output_type": "stream",
          "name": "stdout",
          "text": [
            "Aqui é um exemplo do arquivo exemplo.txt\n",
            "Essa é a primeira linha\n",
            "Essa é a segunda linha\n",
            "Essa é a terceira linha\n",
            "Essa é a quinta linha\n"
          ]
        }
      ]
    },
    {
      "cell_type": "code",
      "source": [
        "# Questão 03 com with open(...) (Atualização Condicional):\n",
        "# Verificando e atualizando o arquivo para ter pelo menos 5 linhas\n",
        "with open('exemplo.txt', 'r') as myfile:\n",
        "    linhas = myfile.readlines()\n",
        "\n",
        "if len(linhas) < 5:\n",
        "    with open('exemplo.txt', 'a') as myfile:\n",
        "        for i in range(5 - len(linhas)):\n",
        "            myfile.write(f\"Essa é a linha {len(linhas) + i + 1}\\n\")"
      ],
      "metadata": {
        "id": "aGVQf3TPKoef"
      },
      "execution_count": 10,
      "outputs": []
    }
  ]
}