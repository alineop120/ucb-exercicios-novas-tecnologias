{
 "cells": [
  {
   "cell_type": "markdown",
   "metadata": {
    "id": "3dhySLX8gbnn"
   },
   "source": [
    "# **Quarta Lista de Exercícios (Tuplas, Set, Booleans e Arquivos)**"
   ]
  },
  {
   "cell_type": "markdown",
   "metadata": {
    "id": "X-KlVzETghXG"
   },
   "source": [
    "---\n",
    "## **Exercícios sobre Tuplas**"
   ]
  },
  {
   "cell_type": "markdown",
   "metadata": {
    "id": "zfjLIm8wguZn"
   },
   "source": [
    "### **QUESTÃO 01 --** Criação e Acesso a Tuplas\n",
    "- Crie uma tupla chamada frutas contendo 5 nomes de frutas.\n",
    "- Exiba o terceiro elemento da tupla.\n",
    "- Tente modificar o segundo elemento e comente em seu código o que ocorreu e por quê."
   ]
  },
  {
   "cell_type": "code",
   "execution_count": null,
   "metadata": {
    "colab": {
     "base_uri": "https://localhost:8080/"
    },
    "id": "DjLjpd8DhOL0",
    "outputId": "df383dbb-ac16-4a8d-8843-bf8bc79ade20"
   },
   "outputs": [
    {
     "name": "stdout",
     "output_type": "stream",
     "text": [
      "uva\n"
     ]
    }
   ],
   "source": [
    "# Criar uma tupla\n",
    "frutas = (\"maçã\", \"banana\", \"laranja\", \"uva\", \"abacaxi\")\n",
    "print(frutas[3])"
   ]
  },
  {
   "cell_type": "code",
   "execution_count": null,
   "metadata": {
    "id": "mTNYVtH6vMBb"
   },
   "outputs": [],
   "source": [
    "# Modificar o segundo elemento, mas aparecerá um erro\n",
    "frutas[2] = \"melancia\""
   ]
  },
  {
   "cell_type": "markdown",
   "metadata": {
    "id": "aS7vBKD7vihU"
   },
   "source": [
    "**Explicação:** Mensagem de erro, o objeto 'tuple' não suporta atribuição de itens, pois tuplas são imutáveis, ou seja, seus elementos não podem ser alterados após a criação. O código tenta modificar o elemento no índice 2 da tupla frutas, o que não é permitido."
   ]
  },
  {
   "cell_type": "code",
   "execution_count": null,
   "metadata": {
    "colab": {
     "base_uri": "https://localhost:8080/"
    },
    "id": "cg0_DYFfwnaM",
    "outputId": "cdecc397-97d6-45e7-8f15-588f6e4f57fb"
   },
   "outputs": [
    {
     "name": "stdout",
     "output_type": "stream",
     "text": [
      "('maçã', 'banana', 'melancia', 'uva', 'abacaxi')\n"
     ]
    }
   ],
   "source": [
    "# A solução para a tupla imultavél\n",
    "frutas = list(frutas)\n",
    "frutas[2] = \"melancia\"\n",
    "frutas = tuple(frutas)\n",
    "print(frutas)"
   ]
  },
  {
   "cell_type": "markdown",
   "metadata": {
    "id": "wCHuWhMfhA4i"
   },
   "source": [
    "### **QUESTÃO 02 --** Fatiamento (Slicing) de Tuplas\n",
    "- Crie uma tupla chamada numeros com os números de 1 a 10.\n",
    "- Utilize slicing para extrair e exibir os elementos da posição 4 à 8 (lembre-se que o fatiamento não inclui o índice final)."
   ]
  },
  {
   "cell_type": "code",
   "execution_count": null,
   "metadata": {
    "colab": {
     "base_uri": "https://localhost:8080/"
    },
    "id": "F-4f-mK9hNdr",
    "outputId": "f1c509db-a934-4a7a-ff7b-da436b3f2c9e"
   },
   "outputs": [
    {
     "name": "stdout",
     "output_type": "stream",
     "text": [
      "(5, 6, 7, 8)\n"
     ]
    }
   ],
   "source": [
    "# Criação de uma tupla\n",
    "num = (1, 2, 3, 4, 5, 6, 7, 8, 9, 10)\n",
    "# Utilizando slicing para extrair e exibir\n",
    "print(num[4:9])"
   ]
  },
  {
   "cell_type": "markdown",
   "metadata": {
    "id": "m1zEcPBMhPfT"
   },
   "source": [
    "### **QUESTÃO 03 --** Concatenação e Repetição\n",
    "-\tCrie duas tuplas: t1 = (1, 2, 3) e t2 = (4, 5).\n",
    "-\tConcatene as tuplas e armazene o resultado em uma nova tupla chamada t3.\n",
    "-\tExiba t3 repetida 3 vezes (use o operador *)."
   ]
  },
  {
   "cell_type": "code",
   "execution_count": null,
   "metadata": {
    "colab": {
     "base_uri": "https://localhost:8080/"
    },
    "id": "UbUOeMAxhaB-",
    "outputId": "64ea913f-3d12-4c7c-f8c5-97673b1f1040"
   },
   "outputs": [
    {
     "name": "stdout",
     "output_type": "stream",
     "text": [
      "(1, 2, 3, 4, 5)\n"
     ]
    }
   ],
   "source": [
    "# Criar duas tuplas\n",
    "t1 = (1,2,3)\n",
    "t2 = (4,5)\n",
    "\n",
    "# Concatenar as duas tuplas e armazenar na nova tupla\n",
    "t3 = t1 + t2\n",
    "print(t3)"
   ]
  },
  {
   "cell_type": "code",
   "execution_count": null,
   "metadata": {
    "colab": {
     "base_uri": "https://localhost:8080/"
    },
    "id": "Q7fG7Zpu4ypN",
    "outputId": "dde54b96-49d4-4c39-db84-c0c73a6196c7"
   },
   "outputs": [
    {
     "name": "stdout",
     "output_type": "stream",
     "text": [
      "(1, 2, 3, 4, 5, 1, 2, 3, 4, 5, 1, 2, 3, 4, 5)\n"
     ]
    }
   ],
   "source": [
    "# Exibir t3 repetida 3 vezes\n",
    "print(t3 * 3)"
   ]
  },
  {
   "cell_type": "markdown",
   "metadata": {
    "id": "7J-Ftepihi1f"
   },
   "source": [
    "---\n",
    "## **Exercícios sobre Conjuntos e Booleanos**"
   ]
  },
  {
   "cell_type": "markdown",
   "metadata": {
    "id": "ktL4KDpWhyh5"
   },
   "source": [
    "### **QUESTÃO 01 --**\tOperações com Conjuntos\n",
    "-\tCrie dois conjuntos:\n",
    "-\tA = {1, 2, 3, 4}\n",
    "-\tB = {3, 4, 5, 6}\n",
    "-\tCalcule e exiba:\n",
    "-\tA união de A e B.\n",
    "-\tA interseção de A e B.\n",
    "-\tA diferença entre A e B (A - B) e entre B e A (B - A).\n",
    "-\tA diferença simétrica entre A e B."
   ]
  },
  {
   "cell_type": "code",
   "execution_count": null,
   "metadata": {
    "colab": {
     "base_uri": "https://localhost:8080/"
    },
    "id": "1Abf2jediChD",
    "outputId": "24123cba-4c05-46f0-f525-707b229b43fc"
   },
   "outputs": [
    {
     "name": "stdout",
     "output_type": "stream",
     "text": [
      "{1, 2, 3, 4, 5, 6}\n",
      "{3, 4}\n",
      "{1, 2}\n",
      "{5, 6}\n",
      "{1, 2, 5, 6}\n"
     ]
    }
   ],
   "source": [
    "# Criar dois conjuntos\n",
    "A = {1, 2, 3, 4}\n",
    "B = {3, 4, 5, 6}\n",
    "\n",
    "# Calcular a união de A e B\n",
    "print(A.union(B))\n",
    "\n",
    "# Calcular a interseção de A e B\n",
    "print(A.intersection(B))\n",
    "\n",
    "# Calcular a diferença entre A e B\n",
    "print(A.difference(B))\n",
    "print(B.difference(A))\n",
    "\n",
    "# Calcular a diferença simétrica entre A e B\n",
    "print(A.symmetric_difference(B))"
   ]
  },
  {
   "cell_type": "markdown",
   "metadata": {
    "id": "2a5b_tGIhb--"
   },
   "source": [
    "### **QUESTÃO 02 --** Verificação de Subconjuntos\n",
    "-\tUtilizando os conjuntos A e B criados anteriormente, verifique e exiba se:\n",
    "-\tA é subconjunto de B.\n",
    "-\tB é subconjunto de A.\n",
    "-\tOs conjuntos são disjuntos (ou seja, não possuem elementos em comum).\n",
    "\n"
   ]
  },
  {
   "cell_type": "code",
   "execution_count": null,
   "metadata": {
    "colab": {
     "base_uri": "https://localhost:8080/"
    },
    "id": "q3j1WfB2iTPb",
    "outputId": "ae041954-0eb5-457a-979a-ea2d94661a64"
   },
   "outputs": [
    {
     "name": "stdout",
     "output_type": "stream",
     "text": [
      "False\n",
      "False\n",
      "False\n"
     ]
    }
   ],
   "source": [
    "# Verificar se A é subconjunto de B\n",
    "print(A.issubset(B))\n",
    "\n",
    "# Verificar se B é subconjunto de A\n",
    "print(B.issubset(A))\n",
    "\n",
    "# Verificar se os conjuntos são disjuntos\n",
    "print(A.isdisjoint(B))"
   ]
  },
  {
   "cell_type": "markdown",
   "metadata": {
    "id": "xUV--4QGiDZT"
   },
   "source": [
    "### **QUESTÃO 03 --** Expressões Booleanas\n",
    "-\tCrie e avalie as seguintes expressões booleanas, imprimindo seus resultados:\n",
    "-\tTrue and False\n",
    "-\tnot (False or True)\n",
    "-\t(3 > 2) and (5 == 5)\n",
    "-\tComente o que cada expressão significa e por que o resultado foi aquele obtido."
   ]
  },
  {
   "cell_type": "code",
   "execution_count": null,
   "metadata": {
    "colab": {
     "base_uri": "https://localhost:8080/"
    },
    "id": "EcHpqJnziesz",
    "outputId": "649daa01-bd3f-4cd2-85e5-87221e21a039"
   },
   "outputs": [
    {
     "data": {
      "text/plain": [
       "False"
      ]
     },
     "execution_count": 49,
     "metadata": {},
     "output_type": "execute_result"
    }
   ],
   "source": [
    "a = True and False\n",
    "a"
   ]
  },
  {
   "cell_type": "markdown",
   "metadata": {
    "id": "HpTkOsYBCzXB"
   },
   "source": [
    "**Explicação da primeira expressão -- True and False:** Nessa expressão foi \"False\", pois uma das proposição é \"True\" e só será verdadeira se todas as proposiçôes forem verdadeiras.\n"
   ]
  },
  {
   "cell_type": "code",
   "execution_count": null,
   "metadata": {
    "colab": {
     "base_uri": "https://localhost:8080/"
    },
    "id": "vROxmvaPC9Ea",
    "outputId": "71b3a501-cbf1-49df-a646-69c61067430b"
   },
   "outputs": [
    {
     "name": "stdout",
     "output_type": "stream",
     "text": [
      "False\n"
     ]
    }
   ],
   "source": [
    "b = not (False or True)\n",
    "print(b)"
   ]
  },
  {
   "cell_type": "markdown",
   "metadata": {
    "id": "AlqXRHQ4DBYK"
   },
   "source": [
    "**Explicação da segunda expressão -- not (False or True):** Com base na tabela verdade, será verdadeira quando, pelo menos, uma das condições fossem verdadeira, mas nessa expressão temos um \"not\", que significa que será falso se a proposição for verdadeira e vice-versa.\n"
   ]
  },
  {
   "cell_type": "code",
   "execution_count": null,
   "metadata": {
    "colab": {
     "base_uri": "https://localhost:8080/"
    },
    "id": "kmc97ekrC_gq",
    "outputId": "a5b337d6-5a2b-4c18-8a7c-a28e57e77c28"
   },
   "outputs": [
    {
     "name": "stdout",
     "output_type": "stream",
     "text": [
      "True\n"
     ]
    }
   ],
   "source": [
    "c = (3 > 2) and (5 == 5)\n",
    "print(c)"
   ]
  },
  {
   "cell_type": "markdown",
   "metadata": {
    "id": "8hvRSzSBDSer"
   },
   "source": [
    "**Explicação da terceira expressão -- (3 > 2) and (5 == 5):** São duas condições, com base na tabela verdade, será verdadeira somente se todas as condições forem verdadeiras. Nessa expressão todas são verdadeiras e o resultado foi \"True\"; caso uma das duas condições for falso, o resultado seria \"False\"."
   ]
  },
  {
   "cell_type": "markdown",
   "metadata": {
    "id": "2N8NQC9eiGlK"
   },
   "source": [
    "### **QUESTÃO 04 --** Conversão de Lista para Conjunto\n",
    "-\tCrie uma lista com elementos repetidos, por exemplo, lista = [1, 2, 2, 3, 4, 4, 5].\n",
    "-\tConverta essa lista para um conjunto e exiba o conjunto resultante, observando como os elementos duplicados são removidos.\n"
   ]
  },
  {
   "cell_type": "code",
   "execution_count": null,
   "metadata": {
    "colab": {
     "base_uri": "https://localhost:8080/"
    },
    "id": "9WL1Ik6pili7",
    "outputId": "f082fd10-b808-4bae-9b26-862485d6aba7"
   },
   "outputs": [
    {
     "name": "stdout",
     "output_type": "stream",
     "text": [
      "{1, 2, 3, 4, 5}\n"
     ]
    }
   ],
   "source": [
    "# Criar uma lista repetidas\n",
    "lista_repetidos = [1, 2, 2, 3, 4, 4, 5]\n",
    "\n",
    "# Converter esse conjunto para que os elementos duplicados são removidos\n",
    "conjunto = set(lista_repetidos)\n",
    "print(conjunto)"
   ]
  },
  {
   "cell_type": "markdown",
   "metadata": {
    "id": "7cilKk6RidTD"
   },
   "source": [
    "---\n",
    "## **Exercícios sobre Arquivos**\n"
   ]
  },
  {
   "cell_type": "markdown",
   "metadata": {
    "id": "6SuaxMlAjGtq"
   },
   "source": [
    "### **QUESTÃO 01 --** Escrita de Arquivos\n",
    "- Crie (ou sobrescreva) um arquivo chamado exemplo.txt usando o comando magic %%writefile ou com o método open() em modo de escrita.\n",
    "-\tEscreva pelo menos 5 linhas de texto no arquivo, certificando-se de incluir o caractere de nova linha (\\n) ao final de cada linha."
   ]
  },
  {
   "cell_type": "code",
   "execution_count": null,
   "metadata": {
    "colab": {
     "base_uri": "https://localhost:8080/"
    },
    "id": "oexOM-vIjV5q",
    "outputId": "eee1ba7a-6b70-4d76-83b5-68278f3662fc"
   },
   "outputs": [
    {
     "name": "stdout",
     "output_type": "stream",
     "text": [
      "Overwriting exemplo.txt\n"
     ]
    }
   ],
   "source": [
    "# Criação de um arquivo\n",
    "%%writefile exemplo.txt\n",
    "Aqui é um exemplo do arquivo exemplo.txt\n",
    "Essa é a primeira linha\n",
    "Essa é a segunda linha\n",
    "Essa é a terceira linha\n",
    "Essa é a quarta linha\n",
    "Essa é a quinta linha"
   ]
  },
  {
   "cell_type": "code",
   "execution_count": null,
   "metadata": {
    "colab": {
     "base_uri": "https://localhost:8080/",
     "height": 53
    },
    "id": "FkE9Q4v77wGQ",
    "outputId": "b15bc971-232d-4534-b837-a3e0383cff67"
   },
   "outputs": [
    {
     "data": {
      "application/vnd.google.colaboratory.intrinsic+json": {
       "type": "string"
      },
      "text/plain": [
       "'Aqui é um exemplo do arquivo exemplo.txt\\nEssa é a primeira linha\\nEssa é a segunda linha\\nEssa é a terceira linha\\nEssa é a quarta linha\\nEssa é a quinta linha\\n'"
      ]
     },
     "execution_count": 65,
     "metadata": {},
     "output_type": "execute_result"
    }
   ],
   "source": [
    "# Abrir o texto .txt que foi criado anteriormente\n",
    "myfile = open('exemplo.txt')\n",
    "# Ler o arquivo\n",
    "myfile.read()"
   ]
  },
  {
   "cell_type": "markdown",
   "metadata": {
    "id": "FdJrrGvMjJx6"
   },
   "source": [
    "### **QUESTÃO 02 --** Leitura de Arquivos\n",
    "-\tAbra o arquivo exemplo.txt e leia todas as linhas com o método readlines().\n",
    "-\tImprima cada linha removendo o caractere de nova linha (use fatiamento ou o método strip())."
   ]
  },
  {
   "cell_type": "code",
   "execution_count": null,
   "metadata": {
    "colab": {
     "base_uri": "https://localhost:8080/"
    },
    "id": "jyoCmDTdjWLC",
    "outputId": "4fcd488b-9c69-4926-b203-7fc06df3d9a3"
   },
   "outputs": [
    {
     "data": {
      "text/plain": [
       "['Aqui é um exemplo do arquivo exemplo.txt\\n',\n",
       " 'Essa é a primeira linha\\n',\n",
       " 'Essa é a segunda linha\\n',\n",
       " 'Essa é a terceira linha\\n',\n",
       " 'Essa é a quarta linha\\n',\n",
       " 'Essa é a quinta linha\\n']"
      ]
     },
     "execution_count": 66,
     "metadata": {},
     "output_type": "execute_result"
    }
   ],
   "source": [
    "myfile = open('exemplo.txt')\n",
    "myfile.readlines()"
   ]
  },
  {
   "cell_type": "code",
   "execution_count": null,
   "metadata": {
    "colab": {
     "base_uri": "https://localhost:8080/"
    },
    "id": "6TDE-3HLIj6U",
    "outputId": "021616ff-6847-4c53-f842-734b96ce61ec"
   },
   "outputs": [
    {
     "name": "stdout",
     "output_type": "stream",
     "text": [
      "Aqui é um exemplo do arquivo exemplo.txt\n",
      "Essa é a primeira linha\n",
      "Essa é a segunda linha\n",
      "Essa é a terceira linha\n",
      "Essa é a quarta linha\n",
      "Essa é a quinta linha\n"
     ]
    }
   ],
   "source": [
    "# remover o caractere de nova linha\n",
    "myfile = open('exemplo.txt')\n",
    "for linha in myfile:\n",
    "    print(linha[:-1])"
   ]
  },
  {
   "cell_type": "markdown",
   "metadata": {
    "id": "1KuxdIX9jK5L"
   },
   "source": [
    "### **QUESTÃO 03 --** Atualização Condicional do Arquivo\n",
    "-\tEscreva um script que verifique se exemplo.txt possui pelo menos 5 linhas.\n",
    "-\tSe não tiver, adicione novas linhas ao final do arquivo para que o total seja 5 (use o modo \"append\")."
   ]
  },
  {
   "cell_type": "code",
   "execution_count": null,
   "metadata": {
    "id": "aGVQf3TPKoef"
   },
   "outputs": [],
   "source": []
  },
  {
   "cell_type": "markdown",
   "metadata": {
    "id": "YMwt8BHojODz"
   },
   "source": [
    "### **QUESTÃO 04 --** Retorno do Método write()\n",
    "-\tUtilize o método write() para adicionar uma nova linha ao arquivo e capture o valor retornado.\n",
    "-\tEm um comentário, explique o que esse valor representa (dica: quantidade de caracteres escritos)."
   ]
  },
  {
   "cell_type": "code",
   "execution_count": null,
   "metadata": {
    "id": "GTOp7lDbjXAb"
   },
   "outputs": [],
   "source": []
  },
  {
   "cell_type": "markdown",
   "metadata": {
    "id": "uFgRSlcTjSPr"
   },
   "source": [
    "### **QUESTÃO 05 --** Uso da Estrutura with\n",
    "-\tRefaça os exercícios de escrita e leitura utilizando a instrução with open(...) as arquivo: para garantir que o arquivo seja fechado automaticamente após o uso."
   ]
  },
  {
   "cell_type": "code",
   "execution_count": null,
   "metadata": {
    "id": "Pz7xN0F_jXXM"
   },
   "outputs": [],
   "source": []
  }
 ],
 "metadata": {
  "colab": {
   "collapsed_sections": [
    "X-KlVzETghXG",
    "zfjLIm8wguZn",
    "wCHuWhMfhA4i",
    "m1zEcPBMhPfT",
    "7J-Ftepihi1f",
    "ktL4KDpWhyh5",
    "2N8NQC9eiGlK"
   ],
   "provenance": []
  },
  "kernelspec": {
   "display_name": "Python 3 (ipykernel)",
   "language": "python",
   "name": "python3"
  },
  "language_info": {
   "codemirror_mode": {
    "name": "ipython",
    "version": 3
   },
   "file_extension": ".py",
   "mimetype": "text/x-python",
   "name": "python",
   "nbconvert_exporter": "python",
   "pygments_lexer": "ipython3",
   "version": "3.13.1"
  }
 },
 "nbformat": 4,
 "nbformat_minor": 4
}
