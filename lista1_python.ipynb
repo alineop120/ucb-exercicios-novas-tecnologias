{
 "cells": [
  {
   "cell_type": "markdown",
   "metadata": {
    "id": "HuCEh3UayEJK"
   },
   "source": [
    "## **QUESTÃO 01**\n",
    "---\n",
    "Ler dois números inteiros, executar e mostrar o resultado das seguintes operações: adição, subtração, multiplicação e divisão.\n"
   ]
  },
  {
   "cell_type": "code",
   "execution_count": null,
   "metadata": {},
   "outputs": [],
   "source": []
  },
  {
   "cell_type": "code",
   "execution_count": 24,
   "metadata": {
    "colab": {
     "base_uri": "https://localhost:8080/"
    },
    "executionInfo": {
     "elapsed": 2590,
     "status": "ok",
     "timestamp": 1741190821083,
     "user": {
      "displayName": "Aline Oliveira",
      "userId": "01411146384750890045"
     },
     "user_tz": 180
    },
    "id": "nTdNAnf52jeE",
    "outputId": "330c96c6-0fd0-4bf5-967b-e9f8841ab45d"
   },
   "outputs": [
    {
     "name": "stdout",
     "output_type": "stream",
     "text": [
      "Digite o primeiro numero: 12\n",
      "Digite o segundo numero: 5\n",
      "\n",
      "-- Resultado --\n",
      "Adição: 12 + 5 = 17\n",
      "Subtração: 12 - 5 = 7\n",
      "Multiplicação: 12 * 5 = 60\n",
      "Divisão: 12 / 5 = 2.4\n"
     ]
    }
   ],
   "source": [
    "# Ler dois números inteiros\n",
    "num1 = int(input('Digite o primeiro numero: '))\n",
    "num2 = int(input('Digite o segundo numero: '))\n",
    "\n",
    "# Realizar as operações\n",
    "adicao = num1 + num2\n",
    "subtracao = num1 - num2\n",
    "multiplicacao = num1 * num2\n",
    "\n",
    "# Verificar divisão por zero\n",
    "if num2 != 0:\n",
    "  divisao = num1 / num2\n",
    "else:\n",
    "  divisao = \"Divisão por zero não é possível\"\n",
    "\n",
    "# Mostrar os resultados\n",
    "print(\"\\n-- Resultado --\")\n",
    "print(f\"Adição: {num1} + {num2} = {adicao}\")\n",
    "print(f\"Subtração: {num1} - {num2} = {subtracao}\")\n",
    "print(f\"Multiplicação: {num1} * {num2} = {multiplicacao}\")\n",
    "print(f\"Divisão: {num1} / {num2} = {divisao}\")"
   ]
  },
  {
   "cell_type": "markdown",
   "metadata": {
    "id": "g0mS4Vh150_0"
   },
   "source": [
    "## **QUESTÃO 02**\n",
    "---\n",
    "Escreva um programa que receba uma string como entrada e retorne a string invertida.\n",
    "Exemplo: \"Olá\" → \"álO\".\n"
   ]
  },
  {
   "cell_type": "code",
   "execution_count": 21,
   "metadata": {
    "colab": {
     "base_uri": "https://localhost:8080/"
    },
    "executionInfo": {
     "elapsed": 2705,
     "status": "ok",
     "timestamp": 1741190679727,
     "user": {
      "displayName": "Aline Oliveira",
      "userId": "01411146384750890045"
     },
     "user_tz": 180
    },
    "id": "Vsroc5A_56N8",
    "outputId": "d16f507c-d15e-4fd6-8e49-a8b025cdf301"
   },
   "outputs": [
    {
     "name": "stdout",
     "output_type": "stream",
     "text": [
      "Digite uma string: Olá\n",
      "Resultado: Olá → álO\n"
     ]
    }
   ],
   "source": [
    "# Ler uma string\n",
    "string = input(\"Digite uma string: \")\n",
    "\n",
    "# Inverter a string\n",
    "string_invertida = string[::-1] #fatiamento\n",
    "\n",
    "# Exibir a string invertida\n",
    "print(f\"Resultado: {string} → {string_invertida}\")"
   ]
  },
  {
   "cell_type": "markdown",
   "metadata": {
    "id": "hMfRS2Am9CuR"
   },
   "source": [
    "## **QUESTÃO 03**\n",
    "---\n",
    "Crie um programa que conte o número de vogais (a, e, i, o, u) em uma string fornecida pelo usuário, ignorando maiúsculas e minúsculas.\n",
    "Exemplo: \"Python\" → 2 vogais.\n"
   ]
  },
  {
   "cell_type": "code",
   "execution_count": 20,
   "metadata": {
    "colab": {
     "base_uri": "https://localhost:8080/"
    },
    "executionInfo": {
     "elapsed": 4496,
     "status": "ok",
     "timestamp": 1741190671826,
     "user": {
      "displayName": "Aline Oliveira",
      "userId": "01411146384750890045"
     },
     "user_tz": 180
    },
    "id": "JsODDDoS9MRh",
    "outputId": "88730a57-dfa8-439b-91ab-b60d060ac369"
   },
   "outputs": [
    {
     "name": "stdout",
     "output_type": "stream",
     "text": [
      "Digite uma string: Python\n",
      "Resultado: Python → 2 vogais\n"
     ]
    }
   ],
   "source": [
    "# lê a string do usuário\n",
    "string = input(\"Digite uma string: \")\n",
    "\n",
    "# define as vogais\n",
    "vogais = \"aeiyouAEIYOU\"\n",
    "cont = 0 # contador de vogais\n",
    "\n",
    "# percorre a string e conta as vogais\n",
    "for char in string:\n",
    "    if char in vogais:\n",
    "        cont += 1\n",
    "\n",
    "# resultado da contagem\n",
    "print(f\"Resultado: {string} → {cont} vogais\")"
   ]
  },
  {
   "cell_type": "markdown",
   "metadata": {
    "id": "zJc3w6LtBZRA"
   },
   "source": [
    "## **QUESTÃO 04**\n",
    "---\n",
    "Faça um programa que receba três números do usuário e calcule a média aritmética deles.\n",
    "Exemplo: 4, 6, 8 → Média = (4 + 6 + 8) / 3 = 6.0\n"
   ]
  },
  {
   "cell_type": "code",
   "execution_count": 19,
   "metadata": {
    "colab": {
     "base_uri": "https://localhost:8080/"
    },
    "executionInfo": {
     "elapsed": 5975,
     "status": "ok",
     "timestamp": 1741190661562,
     "user": {
      "displayName": "Aline Oliveira",
      "userId": "01411146384750890045"
     },
     "user_tz": 180
    },
    "id": "AgNdcoqG9Iy5",
    "outputId": "c290f0b1-346c-4859-dd49-f899b30c1858"
   },
   "outputs": [
    {
     "name": "stdout",
     "output_type": "stream",
     "text": [
      "Digite o primeiro número: 4\n",
      "Digite o segundo número: 6\n",
      "Digite o terceiro número: 8\n",
      "Resultado: 4.0, 6.0, 8.0 → Média = (4.0 + 6.0 + 8.0) / 3 = 6.0\n"
     ]
    }
   ],
   "source": [
    "# lê três números do usuário\n",
    "num1 = float(input(\"Digite o primeiro número: \"))\n",
    "num2 = float(input(\"Digite o segundo número: \"))\n",
    "num3 = float(input(\"Digite o terceiro número: \"))\n",
    "\n",
    "# Calcular a média\n",
    "media = (num1 + num2 + num3) / 3\n",
    "\n",
    "# resultado da média\n",
    "print(f\"Resultado: {num1}, {num2}, {num3} → Média = ({num1} + {num2} + {num3}) / 3 = {media}\")\n"
   ]
  },
  {
   "cell_type": "markdown",
   "metadata": {
    "id": "1VVmgvbnDGjB"
   },
   "source": [
    "## **QUESTÃO 05**\n",
    "---\n",
    "Escreva um programa que calcule o fatorial de um número inteiro positivo fornecido. Use uma constante para representar o valor inicial (1).\n",
    "Exemplo: Entrada = 5 → Resultado = 5 × 4 × 3 × 2 × 1 = 120.\n"
   ]
  },
  {
   "cell_type": "code",
   "execution_count": 14,
   "metadata": {
    "colab": {
     "base_uri": "https://localhost:8080/"
    },
    "executionInfo": {
     "elapsed": 2426,
     "status": "ok",
     "timestamp": 1741190179574,
     "user": {
      "displayName": "Aline Oliveira",
      "userId": "01411146384750890045"
     },
     "user_tz": 180
    },
    "id": "LxYcApfEDkhJ",
    "outputId": "02f12401-454a-422e-bfdf-eb628f925bcc"
   },
   "outputs": [
    {
     "name": "stdout",
     "output_type": "stream",
     "text": [
      "Digite um número: 5\n",
      "Entrada = 5 → Resultado = 120\n"
     ]
    }
   ],
   "source": [
    "# lê o número do usuário\n",
    "num = int(input(\"Digite um número: \"))\n",
    "\n",
    "# inicializa o fatorial como 1\n",
    "fat = 1\n",
    "\n",
    "# calcula o fatorial\n",
    "for i in range(1, num + 1):\n",
    "    fat *= i  # multiplica o valor de fat pelo valor de i\n",
    "\n",
    "# Exibir o resultado\n",
    "print(f\"Entrada = {num} → Resultado = {fat}\")"
   ]
  },
  {
   "cell_type": "markdown",
   "metadata": {
    "id": "Xwl2Umw6AIaA"
   },
   "source": [
    "## QUESTÃO 06\n",
    "\n",
    "---\n",
    "\n",
    "Efetuar o cálculo da quantidade de litros de combustível gasto\n",
    "em uma viagem, utilizando um automóvel que faz 12 Km por litro. Para obter o cálculo, o usuário deve fornecer o tempo gasto na viagem e a velocidade média durante ela. Desta forma, será possível obter a distância percorrida com a fórmula DISTANCIA = TEMPO * VELOCIDADE. Tendo o valor da distância, basta calcular a quantidade de litros de combustível utilizada na viagem, com a fórmula: LITROS_USADOS = DISTÂNCIA / 12. O programa deve apresentar os valores da velocidade média, tempo gasto na viagem, a distância percorrida e a quantidade de litros utilizada na viagem."
   ]
  },
  {
   "cell_type": "code",
   "execution_count": 26,
   "metadata": {
    "colab": {
     "base_uri": "https://localhost:8080/"
    },
    "executionInfo": {
     "elapsed": 3354,
     "status": "ok",
     "timestamp": 1741190891346,
     "user": {
      "displayName": "Aline Oliveira",
      "userId": "01411146384750890045"
     },
     "user_tz": 180
    },
    "id": "ouf9LzePDOLB",
    "outputId": "e0d9015f-301e-469b-a298-599383a7467a"
   },
   "outputs": [
    {
     "name": "stdout",
     "output_type": "stream",
     "text": [
      "Digite o tempo gasto na viagem (em horas): 3\n",
      "Digite a velocidade média (em km/h): 60\n",
      "Velocidade média: 60.0 km/h\n",
      "Tempo gasto na viagem: 3.0 horas\n",
      "Distância percorrida: 180.0 km\n",
      "Quantidade de litros utilizados: 15.0 litros\n"
     ]
    }
   ],
   "source": [
    "# Ler o tempo gasto e a velocidade média\n",
    "tempo = float(input(\"Digite o tempo gasto na viagem (em horas): \"))\n",
    "velocidade = float(input(\"Digite a velocidade média (em km/h): \"))\n",
    "\n",
    "# Calcular a distância percorrida\n",
    "distancia = tempo * velocidade\n",
    "\n",
    "# Calcular a quantidade de litros usados (12 km por litro)\n",
    "litros_usados = distancia / 12\n",
    "\n",
    "# Exibir os resultados\n",
    "print(f\"Velocidade média: {velocidade} km/h\")\n",
    "print(f\"Tempo gasto na viagem: {tempo} horas\")\n",
    "print(f\"Distância percorrida: {distancia} km\")\n",
    "print(f\"Quantidade de litros utilizados: {litros_usados} litros\")"
   ]
  }
 ],
 "metadata": {
  "colab": {
   "authorship_tag": "ABX9TyNfXEZzlVK2iJqfJFI3k4Vb",
   "collapsed_sections": [
    "HuCEh3UayEJK",
    "g0mS4Vh150_0",
    "hMfRS2Am9CuR",
    "zJc3w6LtBZRA"
   ],
   "mount_file_id": "15kPbi7SrMe1HQqqWZ5MUniJTzcGN9KNf",
   "provenance": []
  },
  "kernelspec": {
   "display_name": "Python 3 (ipykernel)",
   "language": "python",
   "name": "python3"
  },
  "language_info": {
   "codemirror_mode": {
    "name": "ipython",
    "version": 3
   },
   "file_extension": ".py",
   "mimetype": "text/x-python",
   "name": "python",
   "nbconvert_exporter": "python",
   "pygments_lexer": "ipython3",
   "version": "3.13.1"
  }
 },
 "nbformat": 4,
 "nbformat_minor": 4
}
